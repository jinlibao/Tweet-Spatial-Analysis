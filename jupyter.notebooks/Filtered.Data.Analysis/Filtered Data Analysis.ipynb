{
 "cells": [
  {
   "cell_type": "code",
   "execution_count": null,
   "metadata": {},
   "outputs": [],
   "source": [
    "import pandas as pd"
   ]
  },
  {
   "cell_type": "code",
   "execution_count": null,
   "metadata": {},
   "outputs": [],
   "source": [
    "def process(file):\n",
    "    df = pd.read_csv(file, header=None, names=['x', 'y', 'a', 'b', 'angle', 'id'])\n",
    "    df['a/b'] = df['a'] / df['b']\n",
    "    sort_by_ratio = df.sort_values('a/b', ascending=False) # sort rows by a/b in descending order\n",
    "    sort_by_a = df.sort_values('a', ascending=False)       # sort rows by a in descending order\n",
    "    sort_by_ratio.to_csv(file.replace('.csv', '_sort_by_ratio.csv'), index=False)\n",
    "    sort_by_a.to_csv(file.replace('.csv', '_sort_by_a.csv'), index=False)\n",
    "    return (df, sort_by_ratio, sort_by_a)"
   ]
  },
  {
   "cell_type": "code",
   "execution_count": null,
   "metadata": {},
   "outputs": [],
   "source": [
    "meanall = '../../data/tweets_mean_all_filtered.csv'\n",
    "working = '../../tweets_median_working_filtered.csv'\n",
    "nonworking = '../../tweets_median_non_working_filtered.csv'"
   ]
  },
  {
   "cell_type": "code",
   "execution_count": null,
   "metadata": {},
   "outputs": [],
   "source": [
    "df_meanall, df_meanall_ratio, df_meanall_a = process(meanall)\n",
    "df_working, df_working_ratio, df_working_a = process(working)\n",
    "df_nonworking, df_nonworking_ratio, df_nonworking_a = process(nonworking)"
   ]
  },
  {
   "cell_type": "code",
   "execution_count": null,
   "metadata": {},
   "outputs": [],
   "source": [
    "df_working_a.head(100)       # print first 100 rows"
   ]
  },
  {
   "cell_type": "code",
   "execution_count": null,
   "metadata": {},
   "outputs": [],
   "source": [
    "df_working_ratio.head(100)"
   ]
  },
  {
   "cell_type": "code",
   "execution_count": null,
   "metadata": {},
   "outputs": [],
   "source": []
  }
 ],
 "metadata": {
  "kernelspec": {
   "display_name": "Python 3",
   "language": "python",
   "name": "python3"
  },
  "language_info": {
   "codemirror_mode": {
    "name": "ipython",
    "version": 3
   },
   "file_extension": ".py",
   "mimetype": "text/x-python",
   "name": "python",
   "nbconvert_exporter": "python",
   "pygments_lexer": "ipython3",
   "version": "3.7.3"
  }
 },
 "nbformat": 4,
 "nbformat_minor": 2
}
