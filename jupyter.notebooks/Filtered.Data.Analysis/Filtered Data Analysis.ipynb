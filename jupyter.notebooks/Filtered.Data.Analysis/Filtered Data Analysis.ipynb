{
 "cells": [
  {
   "cell_type": "code",
   "execution_count": null,
   "metadata": {},
   "outputs": [],
   "source": [
    "import pandas as pd"
   ]
  },
  {
   "cell_type": "code",
   "execution_count": null,
   "metadata": {},
   "outputs": [],
   "source": [
    "def process(file):\n",
    "    df = pd.read_csv(file, header=None, names=['x', 'y', 'a', 'b', 'angle', 'id'])\n",
    "    df['a/b'] = df['a'] / df['b']\n",
    "    sort_by_ratio = df.sort_values('a/b', ascending=False) # sort rows by a/b in descending order\n",
    "    sort_by_a = df.sort_values('a', ascending=False)       # sort rows by a in descending order\n",
    "    sort_by_ratio.to_csv(file.replace('.csv', '_sort_by_ratio.csv'), index=False)\n",
    "    sort_by_a.to_csv(file.replace('.csv', '_sort_by_a.csv'), index=False)\n",
    "    return (df, sort_by_ratio, sort_by_a)"
   ]
  },
  {
   "cell_type": "code",
   "execution_count": null,
   "metadata": {},
   "outputs": [],
   "source": [
    "meanall = '/Users/libao/Documents/data/twitter/csv/all/tweets_mean_all.csv'\n",
    "working = '/Users/libao/Documents/data/twitter/csv/all/tweets_median_working.csv'\n",
    "nonworking = '/Users/libao/Documents/data/twitter/csv/all/data/tweets_median_non_working.csv'"
   ]
  },
  {
   "cell_type": "code",
   "execution_count": null,
   "metadata": {},
   "outputs": [],
   "source": [
    "df_meanall, df_meanall_ratio, df_meanall_a = process(meanall)\n",
    "df_working, df_working_ratio, df_working_a = process(working)\n",
    "df_nonworking, df_nonworking_ratio, df_nonworking_a = process(nonworking)"
   ]
  },
  {
   "cell_type": "code",
   "execution_count": null,
   "metadata": {},
   "outputs": [],
   "source": [
    "df_working_a.head(100)       # print first 100 rows"
   ]
  },
  {
   "cell_type": "code",
   "execution_count": null,
   "metadata": {},
   "outputs": [],
   "source": [
    "df_working_ratio.head(100)"
   ]
  },
  {
   "cell_type": "code",
   "execution_count": null,
   "metadata": {},
   "outputs": [],
   "source": [
    "sample_working = '/Users/libao/Documents/data/twitter/csv/sample/tweets_median_working_filtered.csv'"
   ]
  },
  {
   "cell_type": "code",
   "execution_count": null,
   "metadata": {},
   "outputs": [],
   "source": [
    "import sys\n",
    "sys.path.append('../../utils/')\n",
    "import analysis_utilities as au\n",
    "import pandas as pd\n",
    "import numpy as np\n",
    "\n",
    "def get_shortest_path_by_id(id_from, id_to, suc_file='/Users/libao/Documents/data/twitter/csv/sample/tweets_median_working_successor_matrix.csv', id_file='/Users/libao/Documents/data/twitter/csv/sample/tweets_median_working_adjacency_matrix_ordered_id.csv'):\n",
    "    id_mat = pd.read_csv(id_file, header=None)\n",
    "    S = pd.read_csv(suc_file, header=None)\n",
    "    \n",
    "    idx_from = id_mat[id_mat.iloc[:, 1] == id_from].index.values[0]\n",
    "    idx_to = id_mat[id_mat.iloc[:, 1] == id_to].index.values[0]\n",
    "    \n",
    "    path_nodes = [id_mat.iloc[idx_from, 1]]\n",
    "    while idx_from != idx_to:\n",
    "        idx_from = S.iloc[idx_from, idx_to]\n",
    "        path_nodes.append(id_mat.iloc[idx_from, 1])\n",
    "    print(path_nodes) \n",
    "    return path_nodes\n",
    "    \n",
    "def get_shortest_path_by_idx(idx_from, idx_to, suc_file='/Users/libao/Documents/data/twitter/csv/sample/tweets_median_working_successor_matrix.csv', id_file='/Users/libao/Documents/data/twitter/csv/sample/tweets_median_working_adjacency_matrix_ordered_id.csv'):\n",
    "    id_mat = pd.read_csv(id_file, header=None)\n",
    "    S = pd.read_csv(suc_file, header=None)\n",
    "    \n",
    "    path_nodes = [id_mat.iloc[idx_from, 1]]\n",
    "    while idx_from != idx_to:\n",
    "        idx_from = S.iloc[idx_from, idx_to]\n",
    "        path_nodes.append(id_mat.iloc[idx_from, 1])\n",
    "    print(path_nodes) \n",
    "    return path_nodes\n",
    "\n",
    "def check_shortest_path_by_id(ids, raw_file='/Users/libao/Documents/data/twitter/csv/sample/tweets_median_working.csv'):\n",
    "    df = pd.read_csv(raw_file, header=None, names=['x', 'y', 'a', 'b', 'angle', 'id', 'area'])\n",
    "    for i in ids:\n",
    "        id_from, id_to = i\n",
    "        path_nodes = get_shortest_path_by_id(id_from, id_to)\n",
    "        data = [list(df[df['id'] == node][['x', 'y', 'a', 'b', 'angle', 'id']].values[0]) for node in path_nodes]\n",
    "        au.plot_shortest_path(data, '{:d}_{:d}.pdf'.format(path_nodes[0], path_nodes[-1]))\n",
    "        \n",
    "def check_shortest_path_by_idx(idx, raw_file='/Users/libao/Documents/data/twitter/csv/sample/tweets_median_working.csv'):\n",
    "    df = pd.read_csv(raw_file, header=None, names=['x', 'y', 'a', 'b', 'angle', 'id', 'area'])\n",
    "    for i in idx:\n",
    "        idx_from, idx_to = i\n",
    "        path_nodes = get_shortest_path_by_idx(idx_from, idx_to)\n",
    "        data = [list(df[df['id'] == node][['x', 'y', 'a', 'b', 'angle', 'id']].values[0]) for node in path_nodes]\n",
    "        # au.plot_shortest_path(data, './plot/{:d}_{:d}.pdf'.format(path_nodes[0], path_nodes[-1]))\n",
    "        au.plot_shortest_path(data, './plot/{:d}_{:d}.pdf'.format(idx_from, idx_to))\n",
    "\n",
    "def check_ellipse_by_id(id_pair, raw_file='/Users/libao/Documents/data/twitter/csv/sample/tweets_median_working.csv'):\n",
    "    df = pd.read_csv(raw_file, header=None, names=['x', 'y', 'a', 'b', 'angle', 'id', 'area'])\n",
    "    data = [list(df[df['id'] == i][['x', 'y', 'a', 'b', 'angle', 'id']].values[0]) for i in id_pair]\n",
    "    print(data)\n",
    "    x0, y0, a0, b0, phi0, id0 = data[0]\n",
    "    x1, y1, a1, b1, phi1, id1 = data[1]\n",
    "    au.plot_ellipses(x0, y0, a0, b0, phi0, x1, y1, a1, b1, phi1, '{:d}_{:d}.pdf'.format(id_pair[0], id_pair[-1]))\n",
    "    print(au.are_two_ellipses_overlapping(x0, y0, a0, b0, phi0, x1, y1, a1, b1, phi1))"
   ]
  },
  {
   "cell_type": "code",
   "execution_count": null,
   "metadata": {},
   "outputs": [],
   "source": [
    "# ids = [[25620815, 700476792], [419905564, 700476792], [15067366, 700476792], [190897931, 25620815],\n",
    "# [259795124, 17179749], [33252934, 2573296611], [741621378, 15020935], [30380284, 15020935], [2407826564, 16543984]]\n",
    "ids = [[2407826564, 16543984]]\n",
    "for id_pair in ids:\n",
    "    check_ellipse_by_id(id_pair)"
   ]
  },
  {
   "cell_type": "code",
   "execution_count": null,
   "metadata": {
    "scrolled": false
   },
   "outputs": [],
   "source": [
    "ids = [[2355845772, 1587067812], [2355845772, 14289663], [2573296611, 15067366], [25620815, 700476792], [419905564, 700476792], [15067366, 700476792], [190897931, 25620815],\n",
    "[259795124, 17179749], [33252934, 2573296611], [741621378, 15020935], [30380284, 15020935]]\n",
    "check_shortest_path_by_id(ids)"
   ]
  },
  {
   "cell_type": "code",
   "execution_count": null,
   "metadata": {},
   "outputs": [],
   "source": [
    "idx = [[i, j] for j in range(875,918) for i in range(875,j)]\n",
    "check_shortest_path_by_idx(idx)"
   ]
  }
 ],
 "metadata": {
  "kernelspec": {
   "display_name": "Python 3",
   "language": "python",
   "name": "python3"
  },
  "language_info": {
   "codemirror_mode": {
    "name": "ipython",
    "version": 3
   },
   "file_extension": ".py",
   "mimetype": "text/x-python",
   "name": "python",
   "nbconvert_exporter": "python",
   "pygments_lexer": "ipython3",
   "version": "3.7.3"
  }
 },
 "nbformat": 4,
 "nbformat_minor": 2
}
